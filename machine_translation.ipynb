{
 "cells": [
  {
   "cell_type": "markdown",
   "metadata": {
    "collapsed": true
   },
   "source": [
    "# Artificial Intelligence Nanodegree\n",
    "## Machine Translation Project\n",
    "In this notebook, sections that end with **'(IMPLEMENTATION)'** in the header indicate that the following blocks of code will require additional functionality which you must provide. Please be sure to read the instructions carefully!\n",
    "\n",
    "## Introduction\n",
    "In this notebook, you will build a deep neural network that functions as part of an end-to-end machine translation pipeline. Your completed pipeline will accept English text as input and return the French translation.\n",
    "\n",
    "- **Preprocess** - You'll convert text to sequence of integers.\n",
    "- **Models** Create models which accepts a sequence of integers as input and returns a probability distribution over possible translations. After learning about the basic types of neural networks that are often used for machine translation, you will engage in your own investigations, to design your own model!\n",
    "- **Prediction** Run the model on English text."
   ]
  },
  {
   "cell_type": "code",
   "execution_count": 2,
   "metadata": {},
   "outputs": [],
   "source": [
    "%load_ext autoreload\n",
    "%aimport helper, tests\n",
    "%autoreload 1"
   ]
  },
  {
   "cell_type": "code",
   "execution_count": 3,
   "metadata": {},
   "outputs": [
    {
     "name": "stderr",
     "output_type": "stream",
     "text": [
      "Using TensorFlow backend.\n"
     ]
    }
   ],
   "source": [
    "import collections\n",
    "\n",
    "import helper\n",
    "import numpy as np\n",
    "import project_tests as tests\n",
    "\n",
    "from keras.preprocessing.text import Tokenizer\n",
    "from keras.preprocessing.sequence import pad_sequences\n",
    "from keras.models import Model\n",
    "from keras.layers import GRU, Input, Dense, TimeDistributed, Activation, RepeatVector, Bidirectional\n",
    "from keras.layers.embeddings import Embedding\n",
    "from keras.optimizers import Adam\n",
    "from keras.losses import sparse_categorical_crossentropy"
   ]
  },
  {
   "cell_type": "markdown",
   "metadata": {},
   "source": [
    "### Verify access to the GPU\n",
    "The following test applies only if you expect to be using a GPU, e.g., while running in a Udacity Workspace or using an AWS instance with GPU support. Run the next cell, and verify that the device_type is \"GPU\".\n",
    "- If the device is not GPU & you are running from a Udacity Workspace, then save your workspace with the icon at the top, then click \"enable\" at the bottom of the workspace.\n",
    "- If the device is not GPU & you are running from an AWS instance, then refer to the cloud computing instructions in the classroom to verify your setup steps."
   ]
  },
  {
   "cell_type": "code",
   "execution_count": 4,
   "metadata": {},
   "outputs": [
    {
     "name": "stdout",
     "output_type": "stream",
     "text": [
      "[name: \"/cpu:0\"\n",
      "device_type: \"CPU\"\n",
      "memory_limit: 268435456\n",
      "locality {\n",
      "}\n",
      "incarnation: 11350037693580521344\n",
      ", name: \"/gpu:0\"\n",
      "device_type: \"GPU\"\n",
      "memory_limit: 357433344\n",
      "locality {\n",
      "  bus_id: 1\n",
      "}\n",
      "incarnation: 18389027426384559274\n",
      "physical_device_desc: \"device: 0, name: Tesla K80, pci bus id: 0000:00:04.0\"\n",
      "]\n"
     ]
    }
   ],
   "source": [
    "from tensorflow.python.client import device_lib\n",
    "print(device_lib.list_local_devices())"
   ]
  },
  {
   "cell_type": "markdown",
   "metadata": {},
   "source": [
    "## Dataset\n",
    "We begin by investigating the dataset that will be used to train and evaluate your pipeline.  The most common datasets used for machine translation are from [WMT](http://www.statmt.org/).  However, that will take a long time to train a neural network on.  We'll be using a dataset we created for this project that contains a small vocabulary.  You'll be able to train your model in a reasonable time with this dataset.\n",
    "### Load Data\n",
    "The data is located in `data/small_vocab_en` and `data/small_vocab_fr`. The `small_vocab_en` file contains English sentences with their French translations in the `small_vocab_fr` file. Load the English and French data from these files from running the cell below."
   ]
  },
  {
   "cell_type": "code",
   "execution_count": 9,
   "metadata": {},
   "outputs": [
    {
     "name": "stdout",
     "output_type": "stream",
     "text": [
      "Dataset Loaded\n"
     ]
    }
   ],
   "source": [
    "# Load English data\n",
    "english_sentences = helper.load_data('data/small_vocab_en')\n",
    "# Load French data\n",
    "french_sentences = helper.load_data('data/small_vocab_fr')\n",
    "\n",
    "print('Dataset Loaded')"
   ]
  },
  {
   "cell_type": "markdown",
   "metadata": {},
   "source": [
    "### Files\n",
    "Each line in `small_vocab_en` contains an English sentence with the respective translation in each line of `small_vocab_fr`.  View the first two lines from each file."
   ]
  },
  {
   "cell_type": "code",
   "execution_count": 10,
   "metadata": {},
   "outputs": [
    {
     "name": "stdout",
     "output_type": "stream",
     "text": [
      "small_vocab_en Line 1:  new jersey is sometimes quiet during autumn , and it is snowy in april .\n",
      "small_vocab_fr Line 1:  new jersey est parfois calme pendant l' automne , et il est neigeux en avril .\n",
      "small_vocab_en Line 2:  the united states is usually chilly during july , and it is usually freezing in november .\n",
      "small_vocab_fr Line 2:  les états-unis est généralement froid en juillet , et il gèle habituellement en novembre .\n"
     ]
    }
   ],
   "source": [
    "for sample_i in range(2):\n",
    "    print('small_vocab_en Line {}:  {}'.format(sample_i + 1, english_sentences[sample_i]))\n",
    "    print('small_vocab_fr Line {}:  {}'.format(sample_i + 1, french_sentences[sample_i]))"
   ]
  },
  {
   "cell_type": "markdown",
   "metadata": {},
   "source": [
    "From looking at the sentences, you can see they have been preprocessed already.  The puncuations have been delimited using spaces. All the text have been converted to lowercase.  This should save you some time, but the text requires more preprocessing.\n",
    "### Vocabulary\n",
    "The complexity of the problem is determined by the complexity of the vocabulary.  A more complex vocabulary is a more complex problem.  Let's look at the complexity of the dataset we'll be working with."
   ]
  },
  {
   "cell_type": "code",
   "execution_count": 11,
   "metadata": {},
   "outputs": [
    {
     "name": "stdout",
     "output_type": "stream",
     "text": [
      "1823250 English words.\n",
      "227 unique English words.\n",
      "10 Most common words in the English dataset:\n",
      "\"is\" \",\" \".\" \"in\" \"it\" \"during\" \"the\" \"but\" \"and\" \"sometimes\"\n",
      "\n",
      "1961295 French words.\n",
      "355 unique French words.\n",
      "10 Most common words in the French dataset:\n",
      "\"est\" \".\" \",\" \"en\" \"il\" \"les\" \"mais\" \"et\" \"la\" \"parfois\"\n"
     ]
    }
   ],
   "source": [
    "english_words_counter = collections.Counter([word for sentence in english_sentences for word in sentence.split()])\n",
    "french_words_counter = collections.Counter([word for sentence in french_sentences for word in sentence.split()])\n",
    "\n",
    "print('{} English words.'.format(len([word for sentence in english_sentences for word in sentence.split()])))\n",
    "print('{} unique English words.'.format(len(english_words_counter)))\n",
    "print('10 Most common words in the English dataset:')\n",
    "print('\"' + '\" \"'.join(list(zip(*english_words_counter.most_common(10)))[0]) + '\"')\n",
    "print()\n",
    "print('{} French words.'.format(len([word for sentence in french_sentences for word in sentence.split()])))\n",
    "print('{} unique French words.'.format(len(french_words_counter)))\n",
    "print('10 Most common words in the French dataset:')\n",
    "print('\"' + '\" \"'.join(list(zip(*french_words_counter.most_common(10)))[0]) + '\"')"
   ]
  },
  {
   "cell_type": "markdown",
   "metadata": {},
   "source": [
    "For comparison, _Alice's Adventures in Wonderland_ contains 2,766 unique words of a total of 15,500 words.\n",
    "## Preprocess\n",
    "For this project, you won't use text data as input to your model. Instead, you'll convert the text into sequences of integers using the following preprocess methods:\n",
    "1. Tokenize the words into ids\n",
    "2. Add padding to make all the sequences the same length.\n",
    "\n",
    "Time to start preprocessing the data...\n",
    "### Tokenize (IMPLEMENTATION)\n",
    "For a neural network to predict on text data, it first has to be turned into data it can understand. Text data like \"dog\" is a sequence of ASCII character encodings.  Since a neural network is a series of multiplication and addition operations, the input data needs to be number(s).\n",
    "\n",
    "We can turn each character into a number or each word into a number.  These are called character and word ids, respectively.  Character ids are used for character level models that generate text predictions for each character.  A word level model uses word ids that generate text predictions for each word.  Word level models tend to learn better, since they are lower in complexity, so we'll use those.\n",
    "\n",
    "Turn each sentence into a sequence of words ids using Keras's [`Tokenizer`](https://keras.io/preprocessing/text/#tokenizer) function. Use this function to tokenize `english_sentences` and `french_sentences` in the cell below.\n",
    "\n",
    "Running the cell will run `tokenize` on sample data and show output for debugging."
   ]
  },
  {
   "cell_type": "code",
   "execution_count": 12,
   "metadata": {},
   "outputs": [
    {
     "name": "stdout",
     "output_type": "stream",
     "text": [
      "{'the': 1, 'quick': 2, 'a': 3, 'brown': 4, 'fox': 5, 'jumps': 6, 'over': 7, 'lazy': 8, 'dog': 9, 'by': 10, 'jove': 11, 'my': 12, 'study': 13, 'of': 14, 'lexicography': 15, 'won': 16, 'prize': 17, 'this': 18, 'is': 19, 'short': 20, 'sentence': 21}\n",
      "\n",
      "Sequence 1 in x\n",
      "  Input:  The quick brown fox jumps over the lazy dog .\n",
      "  Output: [1, 2, 4, 5, 6, 7, 1, 8, 9]\n",
      "Sequence 2 in x\n",
      "  Input:  By Jove , my quick study of lexicography won a prize .\n",
      "  Output: [10, 11, 12, 2, 13, 14, 15, 16, 3, 17]\n",
      "Sequence 3 in x\n",
      "  Input:  This is a short sentence .\n",
      "  Output: [18, 19, 3, 20, 21]\n"
     ]
    }
   ],
   "source": [
    "def tokenize(x):\n",
    "    \"\"\"\n",
    "    Tokenize x\n",
    "    :param x: List of sentences/strings to be tokenized\n",
    "    :return: Tuple of (tokenized x data, tokenizer used to tokenize x)\n",
    "    \"\"\"\n",
    "    # TODO: Implement\n",
    "    t = Tokenizer()\n",
    "    t.fit_on_texts(x)\n",
    "    return t.texts_to_sequences(x), t\n",
    "tests.test_tokenize(tokenize)\n",
    "\n",
    "# Tokenize Example output\n",
    "text_sentences = [\n",
    "    'The quick brown fox jumps over the lazy dog .',\n",
    "    'By Jove , my quick study of lexicography won a prize .',\n",
    "    'This is a short sentence .']\n",
    "text_tokenized, text_tokenizer = tokenize(text_sentences)\n",
    "print(text_tokenizer.word_index)\n",
    "print()\n",
    "for sample_i, (sent, token_sent) in enumerate(zip(text_sentences, text_tokenized)):\n",
    "    print('Sequence {} in x'.format(sample_i + 1))\n",
    "    print('  Input:  {}'.format(sent))\n",
    "    print('  Output: {}'.format(token_sent))"
   ]
  },
  {
   "cell_type": "markdown",
   "metadata": {},
   "source": [
    "### Padding (IMPLEMENTATION)\n",
    "When batching the sequence of word ids together, each sequence needs to be the same length.  Since sentences are dynamic in length, we can add padding to the end of the sequences to make them the same length.\n",
    "\n",
    "Make sure all the English sequences have the same length and all the French sequences have the same length by adding padding to the **end** of each sequence using Keras's [`pad_sequences`](https://keras.io/preprocessing/sequence/#pad_sequences) function."
   ]
  },
  {
   "cell_type": "code",
   "execution_count": 13,
   "metadata": {},
   "outputs": [
    {
     "name": "stdout",
     "output_type": "stream",
     "text": [
      "Sequence 1 in x\n",
      "  Input:  [1 2 4 5 6 7 1 8 9]\n",
      "  Output: [1 2 4 5 6 7 1 8 9 0]\n",
      "Sequence 2 in x\n",
      "  Input:  [10 11 12  2 13 14 15 16  3 17]\n",
      "  Output: [10 11 12  2 13 14 15 16  3 17]\n",
      "Sequence 3 in x\n",
      "  Input:  [18 19  3 20 21]\n",
      "  Output: [18 19  3 20 21  0  0  0  0  0]\n"
     ]
    }
   ],
   "source": [
    "def pad(x, length=None):\n",
    "    \"\"\"\n",
    "    Pad x\n",
    "    :param x: List of sequences.\n",
    "    :param length: Length to pad the sequence to.  If None, use length of longest sequence in x.\n",
    "    :return: Padded numpy array of sequences\n",
    "    \"\"\"\n",
    "    # TODO: Implement\n",
    "    if length is None:\n",
    "        length = max([len(sentence) for sentence in x])\n",
    "    return pad_sequences(x, maxlen=length, padding='post')\n",
    "tests.test_pad(pad)\n",
    "\n",
    "# Pad Tokenized output\n",
    "test_pad = pad(text_tokenized)\n",
    "for sample_i, (token_sent, pad_sent) in enumerate(zip(text_tokenized, test_pad)):\n",
    "    print('Sequence {} in x'.format(sample_i + 1))\n",
    "    print('  Input:  {}'.format(np.array(token_sent)))\n",
    "    print('  Output: {}'.format(pad_sent))"
   ]
  },
  {
   "cell_type": "markdown",
   "metadata": {},
   "source": [
    "### Preprocess Pipeline\n",
    "Your focus for this project is to build neural network architecture, so we won't ask you to create a preprocess pipeline.  Instead, we've provided you with the implementation of the `preprocess` function."
   ]
  },
  {
   "cell_type": "code",
   "execution_count": 14,
   "metadata": {},
   "outputs": [
    {
     "name": "stdout",
     "output_type": "stream",
     "text": [
      "Data Preprocessed\n",
      "Max English sentence length: 15\n",
      "Max French sentence length: 21\n",
      "English vocabulary size: 199\n",
      "French vocabulary size: 344\n"
     ]
    }
   ],
   "source": [
    "def preprocess(x, y):\n",
    "    \"\"\"\n",
    "    Preprocess x and y\n",
    "    :param x: Feature List of sentences\n",
    "    :param y: Label List of sentences\n",
    "    :return: Tuple of (Preprocessed x, Preprocessed y, x tokenizer, y tokenizer)\n",
    "    \"\"\"\n",
    "    preprocess_x, x_tk = tokenize(x)\n",
    "    preprocess_y, y_tk = tokenize(y)\n",
    "\n",
    "    preprocess_x = pad(preprocess_x)\n",
    "    preprocess_y = pad(preprocess_y)\n",
    "\n",
    "    # Keras's sparse_categorical_crossentropy function requires the labels to be in 3 dimensions\n",
    "    preprocess_y = preprocess_y.reshape(*preprocess_y.shape, 1)\n",
    "\n",
    "    return preprocess_x, preprocess_y, x_tk, y_tk\n",
    "\n",
    "preproc_english_sentences, preproc_french_sentences, english_tokenizer, french_tokenizer =\\\n",
    "    preprocess(english_sentences, french_sentences)\n",
    "    \n",
    "max_english_sequence_length = preproc_english_sentences.shape[1]\n",
    "max_french_sequence_length = preproc_french_sentences.shape[1]\n",
    "english_vocab_size = len(english_tokenizer.word_index)\n",
    "french_vocab_size = len(french_tokenizer.word_index)\n",
    "\n",
    "print('Data Preprocessed')\n",
    "print(\"Max English sentence length:\", max_english_sequence_length)\n",
    "print(\"Max French sentence length:\", max_french_sequence_length)\n",
    "print(\"English vocabulary size:\", english_vocab_size)\n",
    "print(\"French vocabulary size:\", french_vocab_size)"
   ]
  },
  {
   "cell_type": "markdown",
   "metadata": {},
   "source": [
    "## Models\n",
    "In this section, you will experiment with various neural network architectures.\n",
    "You will begin by training four relatively simple architectures.\n",
    "- Model 1 is a simple RNN\n",
    "- Model 2 is a RNN with Embedding\n",
    "- Model 3 is a Bidirectional RNN\n",
    "- Model 4 is an optional Encoder-Decoder RNN\n",
    "\n",
    "After experimenting with the four simple architectures, you will construct a deeper architecture that is designed to outperform all four models.\n",
    "### Ids Back to Text\n",
    "The neural network will be translating the input to words ids, which isn't the final form we want.  We want the French translation.  The function `logits_to_text` will bridge the gab between the logits from the neural network to the French translation.  You'll be using this function to better understand the output of the neural network."
   ]
  },
  {
   "cell_type": "code",
   "execution_count": 15,
   "metadata": {},
   "outputs": [
    {
     "name": "stdout",
     "output_type": "stream",
     "text": [
      "`logits_to_text` function loaded.\n"
     ]
    }
   ],
   "source": [
    "def logits_to_text(logits, tokenizer):\n",
    "    \"\"\"\n",
    "    Turn logits from a neural network into text using the tokenizer\n",
    "    :param logits: Logits from a neural network\n",
    "    :param tokenizer: Keras Tokenizer fit on the labels\n",
    "    :return: String that represents the text of the logits\n",
    "    \"\"\"\n",
    "    index_to_words = {id: word for word, id in tokenizer.word_index.items()}\n",
    "    index_to_words[0] = '<PAD>'\n",
    "\n",
    "    return ' '.join([index_to_words[prediction] for prediction in np.argmax(logits, 1)])\n",
    "\n",
    "print('`logits_to_text` function loaded.')"
   ]
  },
  {
   "cell_type": "markdown",
   "metadata": {},
   "source": [
    "### Model 1: RNN (IMPLEMENTATION)\n",
    "![RNN](images/rnn.png)\n",
    "A basic RNN model is a good baseline for sequence data.  In this model, you'll build a RNN that translates English to French."
   ]
  },
  {
   "cell_type": "code",
   "execution_count": 19,
   "metadata": {},
   "outputs": [
    {
     "name": "stdout",
     "output_type": "stream",
     "text": [
      "Train on 110288 samples, validate on 27573 samples\n",
      "Epoch 1/10\n",
      "110288/110288 [==============================] - 9s 81us/step - loss: 2.0715 - acc: 0.5289 - val_loss: nan - val_acc: 0.5889\n",
      "Epoch 2/10\n",
      "110288/110288 [==============================] - 7s 63us/step - loss: 1.5897 - acc: 0.5943 - val_loss: nan - val_acc: 0.5961\n",
      "Epoch 3/10\n",
      "110288/110288 [==============================] - 7s 62us/step - loss: 1.5316 - acc: 0.6031 - val_loss: nan - val_acc: 0.6040\n",
      "Epoch 4/10\n",
      "110288/110288 [==============================] - 7s 63us/step - loss: 1.5635 - acc: 0.5952 - val_loss: nan - val_acc: 0.6066\n",
      "Epoch 5/10\n",
      "110288/110288 [==============================] - 7s 63us/step - loss: 1.5042 - acc: 0.6043 - val_loss: nan - val_acc: 0.6034\n",
      "Epoch 6/10\n",
      "110288/110288 [==============================] - 7s 62us/step - loss: 1.4899 - acc: 0.6070 - val_loss: nan - val_acc: 0.6101\n",
      "Epoch 7/10\n",
      "110288/110288 [==============================] - 7s 63us/step - loss: 1.4879 - acc: 0.6064 - val_loss: nan - val_acc: 0.6120\n",
      "Epoch 8/10\n",
      "110288/110288 [==============================] - 7s 63us/step - loss: 1.4788 - acc: 0.6085 - val_loss: nan - val_acc: 0.6062\n",
      "Epoch 9/10\n",
      "110288/110288 [==============================] - 7s 63us/step - loss: 1.4845 - acc: 0.6073 - val_loss: nan - val_acc: 0.6055\n",
      "Epoch 10/10\n",
      "110288/110288 [==============================] - 7s 63us/step - loss: 1.4688 - acc: 0.6120 - val_loss: nan - val_acc: 0.6138\n",
      "new jersey est parfois chaud en mois et et est est en en <PAD> <PAD> <PAD> <PAD> <PAD> <PAD> <PAD> <PAD>\n"
     ]
    }
   ],
   "source": [
    "def simple_model(input_shape, output_sequence_length, english_vocab_size, french_vocab_size):\n",
    "    \"\"\"\n",
    "    Build and train a basic RNN on x and y\n",
    "    :param input_shape: Tuple of input shape\n",
    "    :param output_sequence_length: Length of output sequence\n",
    "    :param english_vocab_size: Number of unique English words in the dataset\n",
    "    :param french_vocab_size: Number of unique French words in the dataset\n",
    "    :return: Keras model built, but not trained\n",
    "    \"\"\"\n",
    "    # TODO: Build the layers\n",
    "    learning_rate = 0.1\n",
    "    input_seq = Input(input_shape[1:])\n",
    "    Rnn = GRU(output_sequence_length, return_sequences=True)(input_seq)\n",
    "    time = TimeDistributed(Dense(french_vocab_size))(Rnn)\n",
    "    \n",
    "    model = Model(input_seq, Activation('softmax')(time))\n",
    "    \n",
    "    model.compile(loss=sparse_categorical_crossentropy,\n",
    "                  optimizer=Adam(learning_rate),\n",
    "                  metrics=['accuracy'])\n",
    "    return model\n",
    "tests.test_simple_model(simple_model)\n",
    "\n",
    "# Reshaping the input to work with a basic RNN\n",
    "tmp_x = pad(preproc_english_sentences, max_french_sequence_length)\n",
    "tmp_x = tmp_x.reshape((-1, preproc_french_sentences.shape[-2], 1))\n",
    "\n",
    "# Train the neural network\n",
    "simple_rnn_model = simple_model(\n",
    "    tmp_x.shape,\n",
    "    max_french_sequence_length,\n",
    "    english_vocab_size,\n",
    "    french_vocab_size)\n",
    "simple_rnn_model.fit(tmp_x, preproc_french_sentences, batch_size=1024, epochs=10, validation_split=0.2)\n",
    "\n",
    "# Print prediction(s)\n",
    "print(logits_to_text(simple_rnn_model.predict(tmp_x[:1])[0], french_tokenizer))"
   ]
  },
  {
   "cell_type": "markdown",
   "metadata": {},
   "source": [
    "### Model 2: Embedding (IMPLEMENTATION)\n",
    "![RNN](images/embedding.png)\n",
    "You've turned the words into ids, but there's a better representation of a word.  This is called word embeddings.  An embedding is a vector representation of the word that is close to similar words in n-dimensional space, where the n represents the size of the embedding vectors.\n",
    "\n",
    "In this model, you'll create a RNN model using embedding."
   ]
  },
  {
   "cell_type": "code",
   "execution_count": 20,
   "metadata": {},
   "outputs": [
    {
     "name": "stdout",
     "output_type": "stream",
     "text": [
      "Train on 110288 samples, validate on 27573 samples\n",
      "Epoch 1/10\n",
      "110288/110288 [==============================] - 9s 80us/step - loss: 2.1880 - acc: 0.5801 - val_loss: nan - val_acc: 0.6807\n",
      "Epoch 2/10\n",
      "110288/110288 [==============================] - 8s 76us/step - loss: 1.0373 - acc: 0.7102 - val_loss: nan - val_acc: 0.7371\n",
      "Epoch 3/10\n",
      "110288/110288 [==============================] - 8s 76us/step - loss: 0.8149 - acc: 0.7640 - val_loss: nan - val_acc: 0.7858\n",
      "Epoch 4/10\n",
      "110288/110288 [==============================] - 8s 76us/step - loss: 0.6994 - acc: 0.7988 - val_loss: nan - val_acc: 0.8067\n",
      "Epoch 5/10\n",
      "110288/110288 [==============================] - 8s 76us/step - loss: 0.6452 - acc: 0.8121 - val_loss: nan - val_acc: 0.8139\n",
      "Epoch 6/10\n",
      "110288/110288 [==============================] - 8s 76us/step - loss: 0.6085 - acc: 0.8211 - val_loss: nan - val_acc: 0.8258\n",
      "Epoch 7/10\n",
      "110288/110288 [==============================] - 8s 76us/step - loss: 0.5802 - acc: 0.8298 - val_loss: nan - val_acc: 0.8323\n",
      "Epoch 8/10\n",
      "110288/110288 [==============================] - 8s 77us/step - loss: 0.5587 - acc: 0.8358 - val_loss: nan - val_acc: 0.8390\n",
      "Epoch 9/10\n",
      "110288/110288 [==============================] - 8s 76us/step - loss: 0.5433 - acc: 0.8403 - val_loss: nan - val_acc: 0.8432\n",
      "Epoch 10/10\n",
      "110288/110288 [==============================] - 8s 76us/step - loss: 0.5294 - acc: 0.8443 - val_loss: nan - val_acc: 0.8469\n",
      "new jersey est parfois calme en l' automne l' il il est en avril <PAD> <PAD> <PAD> <PAD> <PAD> <PAD> <PAD>\n"
     ]
    }
   ],
   "source": [
    "def embed_model(input_shape, output_sequence_length, english_vocab_size, french_vocab_size):\n",
    "    \"\"\"\n",
    "    Build and train a RNN model using word embedding on x and y\n",
    "    :param input_shape: Tuple of input shape\n",
    "    :param output_sequence_length: Length of output sequence\n",
    "    :param english_vocab_size: Number of unique English words in the dataset\n",
    "    :param french_vocab_size: Number of unique French words in the dataset\n",
    "    :return: Keras model built, but not trained\n",
    "    \"\"\"\n",
    "    # TODO: Implement\n",
    "    learning_rate = 0.01\n",
    "    input_seq = Input(input_shape[1:])\n",
    "    embed = Embedding(input_dim=english_vocab_size, output_dim=300)(input_seq)\n",
    "    Rnn = GRU(output_sequence_length, return_sequences=True)(embed)\n",
    "    time = TimeDistributed(Dense(french_vocab_size))(Rnn)\n",
    "    \n",
    "    model = Model(input_seq, Activation('softmax')(time))\n",
    "    \n",
    "    model.compile(loss=sparse_categorical_crossentropy,\n",
    "                  optimizer=Adam(learning_rate),\n",
    "                  metrics=['accuracy'])\n",
    "    return model\n",
    "tests.test_embed_model(embed_model)\n",
    "\n",
    "\n",
    "# TODO: Reshape the input\n",
    "tmp_x = pad(preproc_english_sentences, max_french_sequence_length)\n",
    "tmp_x = tmp_x.reshape((-1, preproc_french_sentences.shape[-2]))\n",
    "\n",
    "# TODO: Train the neural network\n",
    "embedded_model = embed_model(\n",
    "    tmp_x.shape,\n",
    "    max_french_sequence_length,\n",
    "    english_vocab_size,\n",
    "    french_vocab_size)\n",
    "embedded_model.fit(tmp_x, preproc_french_sentences, batch_size=1024, epochs=10, validation_split=0.2)\n",
    "\n",
    "# TODO: Print prediction(s)\n",
    "print(logits_to_text(embedded_model.predict(tmp_x[:1])[0], french_tokenizer))"
   ]
  },
  {
   "cell_type": "markdown",
   "metadata": {},
   "source": [
    "### Model 3: Bidirectional RNNs (IMPLEMENTATION)\n",
    "![RNN](images/bidirectional.png)\n",
    "One restriction of a RNN is that it can't see the future input, only the past.  This is where bidirectional recurrent neural networks come in.  They are able to see the future data."
   ]
  },
  {
   "cell_type": "code",
   "execution_count": 16,
   "metadata": {},
   "outputs": [
    {
     "name": "stdout",
     "output_type": "stream",
     "text": [
      "Train on 110288 samples, validate on 27573 samples\n",
      "Epoch 1/10\n",
      "110288/110288 [==============================] - 12s 110us/step - loss: 2.5634 - acc: 0.4915 - val_loss: nan - val_acc: 0.5615\n",
      "Epoch 2/10\n",
      "110288/110288 [==============================] - 10s 91us/step - loss: 1.5925 - acc: 0.5914 - val_loss: nan - val_acc: 0.6112\n",
      "Epoch 3/10\n",
      "110288/110288 [==============================] - 10s 91us/step - loss: 1.4148 - acc: 0.6236 - val_loss: nan - val_acc: 0.6332\n",
      "Epoch 4/10\n",
      "110288/110288 [==============================] - 10s 91us/step - loss: 1.3211 - acc: 0.6421 - val_loss: nan - val_acc: 0.6497\n",
      "Epoch 5/10\n",
      "110288/110288 [==============================] - 10s 90us/step - loss: 1.2635 - acc: 0.6517 - val_loss: nan - val_acc: 0.6539\n",
      "Epoch 6/10\n",
      "110288/110288 [==============================] - 10s 90us/step - loss: 1.2277 - acc: 0.6561 - val_loss: nan - val_acc: 0.6568\n",
      "Epoch 7/10\n",
      "110288/110288 [==============================] - 10s 90us/step - loss: 1.2030 - acc: 0.6591 - val_loss: nan - val_acc: 0.6602\n",
      "Epoch 8/10\n",
      "110288/110288 [==============================] - 10s 90us/step - loss: 1.1845 - acc: 0.6613 - val_loss: nan - val_acc: 0.6625\n",
      "Epoch 9/10\n",
      "110288/110288 [==============================] - 10s 90us/step - loss: 1.1689 - acc: 0.6633 - val_loss: nan - val_acc: 0.6639\n",
      "Epoch 10/10\n",
      "110288/110288 [==============================] - 10s 91us/step - loss: 1.1598 - acc: 0.6643 - val_loss: nan - val_acc: 0.6648\n",
      "new jersey est parfois parfois en l' et il est est en en <PAD> <PAD> <PAD> <PAD> <PAD> <PAD> <PAD> <PAD>\n"
     ]
    }
   ],
   "source": [
    "def bd_model(input_shape, output_sequence_length, english_vocab_size, french_vocab_size):\n",
    "    \"\"\"\n",
    "    Build and train a bidirectional RNN model on x and y\n",
    "    :param input_shape: Tuple of input shape\n",
    "    :param output_sequence_length: Length of output sequence\n",
    "    :param english_vocab_size: Number of unique English words in the dataset\n",
    "    :param french_vocab_size: Number of unique French words in the dataset\n",
    "    :return: Keras model built, but not trained\n",
    "    \"\"\"\n",
    "    # TODO: Implement\n",
    "    learning_rate = 0.01\n",
    "    input_seq = Input(input_shape[1:])\n",
    "    bi = Bidirectional(GRU(output_sequence_length, return_sequences=True))(input_seq)\n",
    "    time = TimeDistributed(Dense(french_vocab_size))(bi)\n",
    "    \n",
    "    model = Model(input_seq, Activation('softmax')(time))\n",
    "    \n",
    "    model.compile(loss=sparse_categorical_crossentropy,\n",
    "                  optimizer=Adam(learning_rate),\n",
    "                  metrics=['accuracy'])\n",
    "    return model\n",
    "tests.test_bd_model(bd_model)\n",
    "\n",
    "\n",
    "# TODO: Train and Print prediction(s)\n",
    "tmp_x = pad(preproc_english_sentences, max_french_sequence_length)\n",
    "tmp_x = tmp_x.reshape((-1, preproc_french_sentences.shape[-2], 1))\n",
    "\n",
    "bidirectional_model = bd_model(\n",
    "    tmp_x.shape,\n",
    "    max_french_sequence_length,\n",
    "    english_vocab_size,\n",
    "    french_vocab_size)\n",
    "bidirectional_model.fit(tmp_x, preproc_french_sentences, batch_size=1024, epochs=10, validation_split=0.2)\n",
    "\n",
    "print(logits_to_text(bidirectional_model.predict(tmp_x[:1])[0], french_tokenizer))"
   ]
  },
  {
   "cell_type": "markdown",
   "metadata": {},
   "source": [
    "### Model 4: Encoder-Decoder (OPTIONAL)\n",
    "Time to look at encoder-decoder models.  This model is made up of an encoder and decoder. The encoder creates a matrix representation of the sentence.  The decoder takes this matrix as input and predicts the translation as output.\n",
    "\n",
    "Create an encoder-decoder model in the cell below."
   ]
  },
  {
   "cell_type": "code",
   "execution_count": 17,
   "metadata": {},
   "outputs": [
    {
     "name": "stdout",
     "output_type": "stream",
     "text": [
      "Train on 110288 samples, validate on 27573 samples\n",
      "Epoch 1/10\n",
      "110288/110288 [==============================] - 12s 106us/step - loss: 3.3097 - acc: 0.4044 - val_loss: nan - val_acc: 0.4093\n",
      "Epoch 2/10\n",
      "110288/110288 [==============================] - 11s 100us/step - loss: 3.2197 - acc: 0.4082 - val_loss: nan - val_acc: 0.4093\n",
      "Epoch 3/10\n",
      "110288/110288 [==============================] - 11s 100us/step - loss: 3.2204 - acc: 0.4082 - val_loss: nan - val_acc: 0.4093\n",
      "Epoch 4/10\n",
      "110288/110288 [==============================] - 11s 100us/step - loss: 3.2216 - acc: 0.4082 - val_loss: nan - val_acc: 0.4093\n",
      "Epoch 5/10\n",
      "110288/110288 [==============================] - 11s 100us/step - loss: 3.2222 - acc: 0.4082 - val_loss: nan - val_acc: 0.4093\n",
      "Epoch 6/10\n",
      "110288/110288 [==============================] - 11s 100us/step - loss: 3.2215 - acc: 0.4082 - val_loss: nan - val_acc: 0.4093\n",
      "Epoch 7/10\n",
      "110288/110288 [==============================] - 11s 100us/step - loss: 3.2220 - acc: 0.4082 - val_loss: nan - val_acc: 0.4093\n",
      "Epoch 8/10\n",
      "110288/110288 [==============================] - 11s 101us/step - loss: 3.2222 - acc: 0.4082 - val_loss: nan - val_acc: 0.4093\n",
      "Epoch 9/10\n",
      "110288/110288 [==============================] - 11s 101us/step - loss: 3.2222 - acc: 0.4082 - val_loss: nan - val_acc: 0.4093\n",
      "Epoch 10/10\n",
      "110288/110288 [==============================] - 11s 100us/step - loss: 3.2229 - acc: 0.4082 - val_loss: nan - val_acc: 0.4093\n",
      "<PAD> <PAD> <PAD> <PAD> <PAD> <PAD> <PAD> <PAD> <PAD> <PAD> <PAD> <PAD> <PAD> <PAD> <PAD> <PAD> <PAD> <PAD> <PAD> <PAD> <PAD>\n"
     ]
    }
   ],
   "source": [
    "def encdec_model(input_shape, output_sequence_length, english_vocab_size, french_vocab_size):\n",
    "    \"\"\"\n",
    "    Build and train an encoder-decoder model on x and y\n",
    "    :param input_shape: Tuple of input shape\n",
    "    :param output_sequence_length: Length of output sequence\n",
    "    :param english_vocab_size: Number of unique English words in the dataset\n",
    "    :param french_vocab_size: Number of unique French words in the dataset\n",
    "    :return: Keras model built, but not trained\n",
    "    \"\"\"\n",
    "    # OPTIONAL: Implement\n",
    "    learning_rate = 0.1\n",
    "    input_seq = Input(input_shape[1:])\n",
    "    Rnn = GRU(output_sequence_length)(input_seq)\n",
    "    encoder_outputs = Dense(128, activation='relu')(Rnn)\n",
    "    repeat = RepeatVector(21)(encoder_outputs)\n",
    "    Rnn_2 = GRU(output_sequence_length, return_sequences=True)(repeat)\n",
    "    time = TimeDistributed(Dense(french_vocab_size))(Rnn_2)\n",
    "    \n",
    "    model = Model(input_seq, Activation('softmax')(time))\n",
    "    \n",
    "    model.compile(loss=sparse_categorical_crossentropy,\n",
    "                  optimizer=Adam(learning_rate),\n",
    "                  metrics=['accuracy'])\n",
    "    return model\n",
    "tests.test_encdec_model(encdec_model)\n",
    "\n",
    "\n",
    "# OPTIONAL: Train and Print prediction(s)\n",
    "tmp_x = pad(preproc_english_sentences, max_french_sequence_length)\n",
    "tmp_x = tmp_x.reshape((-1, preproc_french_sentences.shape[-2], 1))\n",
    "\n",
    "encoder_decoder_model = encdec_model(\n",
    "    tmp_x.shape,\n",
    "    max_french_sequence_length,\n",
    "    english_vocab_size,\n",
    "    french_vocab_size)\n",
    "encoder_decoder_model.fit(tmp_x, preproc_french_sentences, batch_size=1024, epochs=10, validation_split=0.2)\n",
    "\n",
    "print(logits_to_text(encoder_decoder_model.predict(tmp_x[:1])[0], french_tokenizer))"
   ]
  },
  {
   "cell_type": "markdown",
   "metadata": {},
   "source": [
    "### Model 5: Custom (IMPLEMENTATION)\n",
    "Use everything you learned from the previous models to create a model that incorporates embedding and a bidirectional rnn into one model."
   ]
  },
  {
   "cell_type": "code",
   "execution_count": 18,
   "metadata": {},
   "outputs": [
    {
     "name": "stdout",
     "output_type": "stream",
     "text": [
      "_________________________________________________________________\n",
      "Layer (type)                 Output Shape              Param #   \n",
      "=================================================================\n",
      "input_6 (InputLayer)         (None, 15)                0         \n",
      "_________________________________________________________________\n",
      "embedding_1 (Embedding)      (None, 15, 300)           59700     \n",
      "_________________________________________________________________\n",
      "bidirectional_4 (Bidirection (None, 42)                40572     \n",
      "_________________________________________________________________\n",
      "dense_8 (Dense)              (None, 128)               5504      \n",
      "_________________________________________________________________\n",
      "repeat_vector_3 (RepeatVecto (None, 21, 128)           0         \n",
      "_________________________________________________________________\n",
      "bidirectional_5 (Bidirection (None, 21, 42)            18900     \n",
      "_________________________________________________________________\n",
      "time_distributed_6 (TimeDist (None, 21, 3440)          147920    \n",
      "_________________________________________________________________\n",
      "time_distributed_7 (TimeDist (None, 21, 344)           1183704   \n",
      "_________________________________________________________________\n",
      "activation_6 (Activation)    (None, 21, 344)           0         \n",
      "=================================================================\n",
      "Total params: 1,456,300\n",
      "Trainable params: 1,456,300\n",
      "Non-trainable params: 0\n",
      "_________________________________________________________________\n",
      "Final Model Loaded\n"
     ]
    }
   ],
   "source": [
    "def model_final(input_shape, output_sequence_length, english_vocab_size, french_vocab_size):\n",
    "    \"\"\"\n",
    "    Build and train a model that incorporates embedding, encoder-decoder, and bidirectional RNN on x and y\n",
    "    :param input_shape: Tuple of input shape\n",
    "    :param output_sequence_length: Length of output sequence\n",
    "    :param english_vocab_size: Number of unique English words in the dataset\n",
    "    :param french_vocab_size: Number of unique French words in the dataset\n",
    "    :return: Keras model built, but not trained\n",
    "    \"\"\"\n",
    "    # TODO: Implement\n",
    "    learning_rate = 0.005 \n",
    "    input_seq = Input(input_shape[1:])\n",
    "    embed = Embedding(input_dim=english_vocab_size, output_dim=300)(input_seq)\n",
    "    bi = Bidirectional(GRU(output_sequence_length))(embed)\n",
    "    encoder_outputs = Dense(128, activation='relu')(bi)\n",
    "    repeat = RepeatVector(21)(encoder_outputs)\n",
    "    bi_2 = Bidirectional(GRU(output_sequence_length, return_sequences=True))(repeat)\n",
    "    time = TimeDistributed(Dense(3440))(bi_2)\n",
    "    time_2 = TimeDistributed(Dense(french_vocab_size))(time)\n",
    "    \n",
    "    model = Model(input_seq, Activation('softmax')(time_2))\n",
    "    model.summary()\n",
    "    model.compile(loss=sparse_categorical_crossentropy,\n",
    "                  optimizer=Adam(learning_rate),\n",
    "                  metrics=['accuracy'])\n",
    "    return model\n",
    "tests.test_model_final(model_final)\n",
    "\n",
    "print('Final Model Loaded')\n",
    "# TODO: Train the final model"
   ]
  },
  {
   "cell_type": "markdown",
   "metadata": {},
   "source": [
    "## Prediction (IMPLEMENTATION)"
   ]
  },
  {
   "cell_type": "code",
   "execution_count": 19,
   "metadata": {},
   "outputs": [
    {
     "name": "stdout",
     "output_type": "stream",
     "text": [
      "_________________________________________________________________\n",
      "Layer (type)                 Output Shape              Param #   \n",
      "=================================================================\n",
      "input_7 (InputLayer)         (None, 15)                0         \n",
      "_________________________________________________________________\n",
      "embedding_2 (Embedding)      (None, 15, 300)           59700     \n",
      "_________________________________________________________________\n",
      "bidirectional_6 (Bidirection (None, 42)                40572     \n",
      "_________________________________________________________________\n",
      "dense_11 (Dense)             (None, 128)               5504      \n",
      "_________________________________________________________________\n",
      "repeat_vector_4 (RepeatVecto (None, 21, 128)           0         \n",
      "_________________________________________________________________\n",
      "bidirectional_7 (Bidirection (None, 21, 42)            18900     \n",
      "_________________________________________________________________\n",
      "time_distributed_8 (TimeDist (None, 21, 3440)          147920    \n",
      "_________________________________________________________________\n",
      "time_distributed_9 (TimeDist (None, 21, 344)           1183704   \n",
      "_________________________________________________________________\n",
      "activation_7 (Activation)    (None, 21, 344)           0         \n",
      "=================================================================\n",
      "Total params: 1,456,300\n",
      "Trainable params: 1,456,300\n",
      "Non-trainable params: 0\n",
      "_________________________________________________________________\n",
      "Train on 110288 samples, validate on 27573 samples\n",
      "Epoch 1/30\n",
      "110288/110288 [==============================] - 60s 542us/step - loss: 1.4876 - acc: 0.6199 - val_loss: nan - val_acc: 0.7571\n",
      "Epoch 2/30\n",
      "110288/110288 [==============================] - 58s 527us/step - loss: 0.6522 - acc: 0.8016 - val_loss: nan - val_acc: 0.8507\n",
      "Epoch 3/30\n",
      "110288/110288 [==============================] - 58s 526us/step - loss: 0.4288 - acc: 0.8696 - val_loss: nan - val_acc: 0.8913\n",
      "Epoch 4/30\n",
      "110288/110288 [==============================] - 58s 527us/step - loss: 0.3325 - acc: 0.9010 - val_loss: nan - val_acc: 0.9131\n",
      "Epoch 5/30\n",
      "110288/110288 [==============================] - 58s 529us/step - loss: 0.2940 - acc: 0.9137 - val_loss: nan - val_acc: 0.9132\n",
      "Epoch 6/30\n",
      "110288/110288 [==============================] - 59s 536us/step - loss: 0.2746 - acc: 0.9201 - val_loss: nan - val_acc: 0.9160\n",
      "Epoch 7/30\n",
      "110288/110288 [==============================] - 59s 539us/step - loss: 0.2435 - acc: 0.9296 - val_loss: nan - val_acc: 0.9322\n",
      "Epoch 8/30\n",
      "110288/110288 [==============================] - 59s 537us/step - loss: 0.2300 - acc: 0.9342 - val_loss: nan - val_acc: 0.9358\n",
      "Epoch 9/30\n",
      "110288/110288 [==============================] - 59s 536us/step - loss: 0.2296 - acc: 0.9346 - val_loss: nan - val_acc: 0.9384\n",
      "Epoch 10/30\n",
      "110288/110288 [==============================] - 58s 530us/step - loss: 0.2063 - acc: 0.9416 - val_loss: nan - val_acc: 0.9439\n",
      "Epoch 11/30\n",
      "110288/110288 [==============================] - 59s 531us/step - loss: 0.2016 - acc: 0.9429 - val_loss: nan - val_acc: 0.9406\n",
      "Epoch 12/30\n",
      "110288/110288 [==============================] - 59s 537us/step - loss: 0.1959 - acc: 0.9447 - val_loss: nan - val_acc: 0.9425\n",
      "Epoch 13/30\n",
      "110288/110288 [==============================] - 58s 529us/step - loss: 0.1933 - acc: 0.9453 - val_loss: nan - val_acc: 0.9496\n",
      "Epoch 14/30\n",
      "110288/110288 [==============================] - 58s 526us/step - loss: 0.1864 - acc: 0.9471 - val_loss: nan - val_acc: 0.9443\n",
      "Epoch 15/30\n",
      "110288/110288 [==============================] - 57s 521us/step - loss: 0.1762 - acc: 0.9502 - val_loss: nan - val_acc: 0.9449\n",
      "Epoch 16/30\n",
      "110288/110288 [==============================] - 58s 522us/step - loss: 0.1754 - acc: 0.9501 - val_loss: nan - val_acc: 0.9508\n",
      "Epoch 17/30\n",
      "110288/110288 [==============================] - 58s 523us/step - loss: 0.1745 - acc: 0.9506 - val_loss: nan - val_acc: 0.9520\n",
      "Epoch 18/30\n",
      "110288/110288 [==============================] - 58s 530us/step - loss: 0.1633 - acc: 0.9537 - val_loss: nan - val_acc: 0.9522\n",
      "Epoch 19/30\n",
      "110288/110288 [==============================] - 58s 528us/step - loss: 0.1622 - acc: 0.9540 - val_loss: nan - val_acc: 0.9542\n",
      "Epoch 20/30\n",
      "110288/110288 [==============================] - 58s 530us/step - loss: 0.1623 - acc: 0.9541 - val_loss: nan - val_acc: 0.9543\n",
      "Epoch 21/30\n",
      "110288/110288 [==============================] - 59s 531us/step - loss: 0.1575 - acc: 0.9553 - val_loss: nan - val_acc: 0.9559\n",
      "Epoch 22/30\n",
      "110288/110288 [==============================] - 59s 531us/step - loss: 0.1558 - acc: 0.9560 - val_loss: nan - val_acc: 0.9570\n",
      "Epoch 23/30\n",
      "110288/110288 [==============================] - 59s 534us/step - loss: 0.1528 - acc: 0.9568 - val_loss: nan - val_acc: 0.9561\n",
      "Epoch 24/30\n",
      "110288/110288 [==============================] - 58s 523us/step - loss: 0.1573 - acc: 0.9558 - val_loss: nan - val_acc: 0.9585\n",
      "Epoch 25/30\n",
      "110288/110288 [==============================] - 58s 529us/step - loss: 0.1418 - acc: 0.9597 - val_loss: nan - val_acc: 0.9611\n",
      "Epoch 26/30\n",
      "110288/110288 [==============================] - 58s 529us/step - loss: 0.1456 - acc: 0.9588 - val_loss: nan - val_acc: 0.9583\n",
      "Epoch 27/30\n",
      "110288/110288 [==============================] - 57s 519us/step - loss: 0.1379 - acc: 0.9607 - val_loss: nan - val_acc: 0.9574\n",
      "Epoch 28/30\n",
      "110288/110288 [==============================] - 57s 520us/step - loss: 0.1402 - acc: 0.9602 - val_loss: nan - val_acc: 0.9595\n",
      "Epoch 29/30\n",
      "110288/110288 [==============================] - 58s 522us/step - loss: 0.1361 - acc: 0.9613 - val_loss: nan - val_acc: 0.9582\n",
      "Epoch 30/30\n",
      "110288/110288 [==============================] - 58s 522us/step - loss: 0.1376 - acc: 0.9610 - val_loss: nan - val_acc: 0.9592\n",
      "Sample 1:\n",
      "il a vu un vieux camion jaune <PAD> <PAD> <PAD> <PAD> <PAD> <PAD> <PAD> <PAD> <PAD> <PAD> <PAD> <PAD> <PAD> <PAD>\n",
      "Il a vu un vieux camion jaune\n",
      "Sample 2:\n",
      "new jersey est parfois calme pendant l' automne et il est neigeux en avril <PAD> <PAD> <PAD> <PAD> <PAD> <PAD> <PAD>\n",
      "new jersey est parfois calme pendant l' automne et il est neigeux en avril <PAD> <PAD> <PAD> <PAD> <PAD> <PAD> <PAD>\n"
     ]
    }
   ],
   "source": [
    "def final_predictions(x, y, x_tk, y_tk):\n",
    "    \"\"\"\n",
    "    Gets predictions using the final model\n",
    "    :param x: Preprocessed English data\n",
    "    :param y: Preprocessed French data\n",
    "    :param x_tk: English tokenizer\n",
    "    :param y_tk: French tokenizer\n",
    "    \"\"\"\n",
    "    # TODO: Train neural network using model_final\n",
    "    model = model_final(\n",
    "    x.shape,\n",
    "    max_french_sequence_length,\n",
    "    english_vocab_size,\n",
    "    french_vocab_size)\n",
    "    model.fit(x, y, batch_size=256, epochs=30, validation_split=0.2)\n",
    "\n",
    "    \n",
    "    ## DON'T EDIT ANYTHING BELOW THIS LINE\n",
    "    y_id_to_word = {value: key for key, value in y_tk.word_index.items()}\n",
    "    y_id_to_word[0] = '<PAD>'\n",
    "\n",
    "    sentence = 'he saw a old yellow truck'\n",
    "    sentence = [x_tk.word_index[word] for word in sentence.split()]\n",
    "    sentence = pad_sequences([sentence], maxlen=x.shape[-1], padding='post')\n",
    "    sentences = np.array([sentence[0], x[0]])\n",
    "    predictions = model.predict(sentences, len(sentences))\n",
    "\n",
    "    print('Sample 1:')\n",
    "    print(' '.join([y_id_to_word[np.argmax(x)] for x in predictions[0]]))\n",
    "    print('Il a vu un vieux camion jaune')\n",
    "    print('Sample 2:')\n",
    "    print(' '.join([y_id_to_word[np.argmax(x)] for x in predictions[1]]))\n",
    "    print(' '.join([y_id_to_word[np.max(x)] for x in y[0]]))\n",
    "\n",
    "\n",
    "final_predictions(preproc_english_sentences, preproc_french_sentences, english_tokenizer, french_tokenizer)"
   ]
  },
  {
   "cell_type": "markdown",
   "metadata": {},
   "source": [
    "## Submission\n",
    "When you're ready to submit, complete the following steps:\n",
    "1. Review the [rubric](https://review.udacity.com/#!/rubrics/1004/view) to ensure your submission meets all requirements to pass\n",
    "2. Generate an HTML version of this notebook\n",
    "\n",
    "  - Run the next cell to attempt automatic generation (this is the recommended method in Workspaces)\n",
    "  - Navigate to **FILE -> Download as -> HTML (.html)**\n",
    "  - Manually generate a copy using `nbconvert` from your shell terminal\n",
    "```\n",
    "$ pip install nbconvert\n",
    "$ python -m nbconvert machine_translation.ipynb\n",
    "```\n",
    "  \n",
    "3. Submit the project\n",
    "\n",
    "  - If you are in a Workspace, simply click the \"Submit Project\" button (bottom towards the right)\n",
    "  \n",
    "  - Otherwise, add the following files into a zip archive and submit them \n",
    "  - `helper.py`\n",
    "  - `machine_translation.ipynb`\n",
    "  - `machine_translation.html`\n",
    "    - You can export the notebook by navigating to **File -> Download as -> HTML (.html)**."
   ]
  },
  {
   "cell_type": "markdown",
   "metadata": {},
   "source": [
    "### Generate the html\n",
    "\n",
    "**Save your notebook before running the next cell to generate the HTML output.** Then submit your project."
   ]
  },
  {
   "cell_type": "code",
   "execution_count": 20,
   "metadata": {},
   "outputs": [
    {
     "data": {
      "text/plain": [
       "['[NbConvertApp] Converting notebook machine_translation.ipynb to html',\n",
       " '[NbConvertApp] Writing 371007 bytes to machine_translation.html',\n",
       " '[NbConvertApp] Converting notebook machine_translation-zh.ipynb to html',\n",
       " '[NbConvertApp] Writing 328614 bytes to machine_translation-zh.html']"
      ]
     },
     "execution_count": 20,
     "metadata": {},
     "output_type": "execute_result"
    }
   ],
   "source": [
    "# Save before you run this cell!\n",
    "!!jupyter nbconvert *.ipynb"
   ]
  },
  {
   "cell_type": "markdown",
   "metadata": {},
   "source": [
    "## Optional Enhancements\n",
    "\n",
    "This project focuses on learning various network architectures for machine translation, but we don't evaluate the models according to best practices by splitting the data into separate test & training sets -- so the model accuracy is overstated. Use the [`sklearn.model_selection.train_test_split()`](http://scikit-learn.org/stable/modules/generated/sklearn.model_selection.train_test_split.html) function to create separate training & test datasets, then retrain each of the models using only the training set and evaluate the prediction accuracy using the hold out test set. Does the \"best\" model change?"
   ]
  },
  {
   "cell_type": "code",
   "execution_count": null,
   "metadata": {},
   "outputs": [],
   "source": []
  }
 ],
 "metadata": {
  "kernelspec": {
   "display_name": "Python 3",
   "language": "python",
   "name": "python3"
  },
  "language_info": {
   "codemirror_mode": {
    "name": "ipython",
    "version": 3
   },
   "file_extension": ".py",
   "mimetype": "text/x-python",
   "name": "python",
   "nbconvert_exporter": "python",
   "pygments_lexer": "ipython3",
   "version": "3.6.3"
  }
 },
 "nbformat": 4,
 "nbformat_minor": 1
}
